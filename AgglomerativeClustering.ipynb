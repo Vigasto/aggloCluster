{
 "cells": [
  {
   "cell_type": "code",
   "execution_count": 7,
   "metadata": {},
   "outputs": [
    {
     "data": {
      "text/plain": [
       "array([1, 1, 1, 1, 1, 1, 1, 1, 1, 1, 1, 1, 1, 1, 1, 1, 1, 1, 1, 1, 1, 1, 1,\n",
       "       1, 1, 1, 1, 1, 1, 1, 1, 1, 1, 1, 1, 1, 1, 1, 1, 1, 1, 1, 1, 1, 1, 1,\n",
       "       1, 1, 1, 1, 0, 0, 0, 0, 0, 0, 0, 0, 0, 0, 0, 0, 0, 0, 0, 0, 0, 0, 0,\n",
       "       0, 0, 0, 0, 0, 0, 0, 0, 0, 0, 0, 0, 0, 0, 0, 0, 0, 0, 0, 0, 0, 0, 0,\n",
       "       0, 0, 0, 0, 0, 0, 0, 0, 0, 0, 0, 0, 0, 0, 0, 0, 0, 0, 0, 0, 0, 0, 0,\n",
       "       0, 0, 0, 0, 0, 0, 0, 0, 0, 0, 0, 0, 0, 0, 0, 0, 0, 0, 0, 0, 0, 0, 0,\n",
       "       0, 0, 0, 0, 0, 0, 0, 0, 0, 0, 0, 0], dtype=int64)"
      ]
     },
     "execution_count": 7,
     "metadata": {},
     "output_type": "execute_result"
    }
   ],
   "source": [
    "from sklearn.cluster import AgglomerativeClustering\n",
    "from sklearn import datasets\n",
    "iris = datasets.load_iris()\n",
    "clustering = AgglomerativeClustering()\n",
    "clustering.fit(iris.data)\n",
    "clustering.labels_"
   ]
  },
  {
   "cell_type": "code",
   "execution_count": 2,
   "metadata": {},
   "outputs": [
    {
     "data": {
      "text/plain": [
       "array([1, 1, 1, 1, 1, 1, 1, 1, 1, 1, 1, 1, 1, 1, 1, 1, 1, 1, 1, 1, 1, 1, 1,\n",
       "       1, 1, 1, 1, 1, 1, 1, 1, 1, 1, 1, 1, 1, 1, 1, 1, 1, 1, 1, 1, 1, 1, 1,\n",
       "       1, 1, 1, 1, 0, 0, 0, 0, 0, 0, 0, 0, 0, 0, 0, 0, 0, 0, 0, 0, 0, 0, 0,\n",
       "       0, 0, 0, 0, 0, 0, 0, 0, 0, 0, 0, 0, 0, 0, 0, 0, 0, 0, 0, 0, 0, 0, 0,\n",
       "       0, 0, 0, 0, 0, 0, 0, 0, 0, 0, 0, 0, 0, 0, 0, 0, 0, 0, 0, 0, 0, 0, 0,\n",
       "       0, 0, 0, 0, 0, 0, 0, 0, 0, 0, 0, 0, 0, 0, 0, 0, 0, 0, 0, 0, 0, 0, 0,\n",
       "       0, 0, 0, 0, 0, 0, 0, 0, 0, 0, 0, 0], dtype=int64)"
      ]
     },
     "execution_count": 2,
     "metadata": {},
     "output_type": "execute_result"
    }
   ],
   "source": [
    "clustering.fit_predict(iris.data)"
   ]
  },
  {
   "cell_type": "code",
   "execution_count": 8,
   "metadata": {},
   "outputs": [
    {
     "data": {
      "text/plain": [
       "numpy.ndarray"
      ]
     },
     "execution_count": 8,
     "metadata": {},
     "output_type": "execute_result"
    }
   ],
   "source": [
    "type(clustering.labels_)"
   ]
  },
  {
   "cell_type": "code",
   "execution_count": null,
   "metadata": {},
   "outputs": [],
   "source": [
    "from sklearn.base import BaseEstimator, ClusterMixin\n",
    "from sklearn.metrics import pairwise_distances\n",
    "from scipy.spatial import distance\n",
    "from operator import add\n",
    "import numpy as np\n",
    "\n",
    "class MyAgglomerativeClustering(BaseEstimator, ClusterMixin):\n",
    "    def __init__(self, n_cluster=3, linkage=\"single\"):\n",
    "        assert n_cluster > 1\n",
    "        self.n_cluster = n_cluster\n",
    "        self.linkage = linkage\n",
    "    def fit(self, X, y=None):\n",
    "        distance_matrix = pairwise_distances(X)\n",
    "        self.labels_ = np.zeros(X.shape[0])\n",
    "        \n",
    "        #initiate cluster groups\n",
    "        cluster = []\n",
    "        for i in range(X.shape[0]):\n",
    "            init_cluster = [i]\n",
    "            cluster.append(init_cluster)\n",
    "        # merges cluster until n_cluster achieved\n",
    "        while distance_matrix.shape[0] > self.n_cluster:\n",
    "            # search minimum dissimilarity to merge once\n",
    "            print(distance_matrix.shape[0])\n",
    "            print(distance_matrix)\n",
    "            min_i, min_j = self.get_minimum_idx(distance_matrix)\n",
    "            print (min_i, min_j)\n",
    "            # merge cluster members\n",
    "            for merger in cluster[min_j]:\n",
    "                cluster[min_i].append(merger)\n",
    "            del cluster[min_j]\n",
    "            print(cluster)\n",
    "            # renew distance matrix\n",
    "            distance_matrix = np.delete(distance_matrix, min_j, 0)\n",
    "            distance_matrix = np.delete(distance_matrix, min_j, 1)\n",
    "            # recompute distance matrix\n",
    "            if self.linkage==\"single\":\n",
    "                for i in range (0,distance_matrix.shape[0]):\n",
    "                    if (i==min_i):\n",
    "                        continue\n",
    "                    else:\n",
    "                        minDist = None\n",
    "                        for clusterItem0 in cluster[min_i]:\n",
    "                            for clusterItem1 in cluster[i]:\n",
    "                                if (minDist == None):\n",
    "                                    minDist = distance.euclidean(X[clusterItem0],X[clusterItem1])\n",
    "                                elif distance.euclidean(clusterItem0,clusterItem1) < minDist:\n",
    "                                    minDist = distance.euclidean(X[clusterItem0],X[clusterItem1])\n",
    "                    distance_matrix[min_i,i] = minDist;\n",
    "                    distance_matrix[i,min_i] = minDist;\n",
    "            elif self.linkage==\"complete\":\n",
    "                for i in range (0,distance_matrix.shape[0]):\n",
    "                    if (i==min_i):\n",
    "                        continue\n",
    "                    else:\n",
    "                        maxDist = None\n",
    "                        for clusterItem0 in cluster[min_i]:\n",
    "                            for clusterItem1 in cluster[i]:\n",
    "                                if (maxDist == None):\n",
    "                                    maxDist = distance.euclidean(X[clusterItem0],X[clusterItem1])\n",
    "                                elif distance.euclidean(clusterItem0,clusterItem1) > maxDist:\n",
    "                                    maxDist = distance.euclidean(X[clusterItem0],X[clusterItem1])\n",
    "                    distance_matrix[min_i,i] = maxDist;\n",
    "                    distance_matrix[i,min_i] = maxDist;\n",
    "            elif self.linkage==\"average_group\":\n",
    "                for i in range (0,distance_matrix.shape[0]):\n",
    "                    if (i==min_i):\n",
    "                        continue\n",
    "                    else:\n",
    "                        mean0 = [0]*(X.shape[1])\n",
    "                        for clusterItem0 in cluster[min_i]:\n",
    "                            mean0 = list(map(add,mean0,X[clusterItem0]))\n",
    "                        for element in mean0:\n",
    "                            element = element / len(cluster[min_i])\n",
    "                        mean1 = [0]*(X.shape[1])\n",
    "                        for clusterItem1 in cluster[i]:\n",
    "                            mean1 = list(map(add,mean1,X[clusterItem0]))\n",
    "                        for element in mean1:\n",
    "                            element = element / len(cluster[i])\n",
    "                        dist = distance.euclidean(mean0,mean1)\n",
    "                    distance_matrix[min_i,i] = dist;\n",
    "                    distance_matrix[i,min_i] = dist;\n",
    "            elif self.linkage==\"average\":\n",
    "                maxDist = None\n",
    "                for i in range (0,distance_matrix.shape[0]):\n",
    "                    if (i==min_i):\n",
    "                        continue\n",
    "                    else:\n",
    "                        for clusterItem0 in cluster[min_i]:\n",
    "                            for clusterItem1 in cluster[i]:\n",
    "                                if (maxDist == None):\n",
    "                                    maxDist = distance.euclidean(X[clusterItem0],X[clusterItem1])\n",
    "                                elif distance.euclidean(clusterItem0,clusterItem1) > maxDist:\n",
    "                                    maxDist = distance.euclidean(X[clusterItem0],X[clusterItem1])\n",
    "                    distance_matrix[min_i,i] = maxDist;\n",
    "                    distance_matrix[i,min_i] = maxDist;\n",
    "            print(distance_matrix)\n",
    "        #set labels\n",
    "        i = 0\n",
    "        for clust in cluster:\n",
    "            label = i\n",
    "            for member in clust:\n",
    "                self.labels_[member] = label\n",
    "            i = i+1\n",
    "        print self.labels_\n",
    "    def get_minimum_idx(self,m):\n",
    "        assert (m.shape[0] > 1)\n",
    "        min = m[1,0]\n",
    "        min_i = 1;\n",
    "        min_j = 0;\n",
    "        for j in range(1, m.shape[0]):\n",
    "            for i in range(0, j):\n",
    "                if m[i,j] < min:\n",
    "                    min = m[i,j]\n",
    "                    min_i = i\n",
    "                    min_j = j\n",
    "        if min_i<min_j:\n",
    "            return min_i, min_j\n",
    "        return min_j, min_i\n",
    "            \n",
    "            "
   ]
  },
  {
   "cell_type": "code",
   "execution_count": null,
   "metadata": {},
   "outputs": [],
   "source": [
    "clustering = MyAgglomerativeClustering(linkage=\"complete\")"
   ]
  },
  {
   "cell_type": "code",
   "execution_count": null,
   "metadata": {},
   "outputs": [],
   "source": [
    " X = np.array([[1, 2], [1, 4], [1, 0],[4, 2], [4, 4], [4, 0]])\n",
    "clustering.fit(iris.data)"
   ]
  },
  {
   "cell_type": "code",
   "execution_count": 186,
   "metadata": {},
   "outputs": [
    {
     "data": {
      "text/plain": [
       "[1, 3, 4, 5, 10, -2]"
      ]
     },
     "execution_count": 186,
     "metadata": {},
     "output_type": "execute_result"
    }
   ],
   "source": [
    "[1,3,4] + [5,10,-2]\n"
   ]
  },
  {
   "cell_type": "code",
   "execution_count": 200,
   "metadata": {},
   "outputs": [
    {
     "data": {
      "text/plain": [
       "(6L, 2L)"
      ]
     },
     "execution_count": 200,
     "metadata": {},
     "output_type": "execute_result"
    }
   ],
   "source": [
    "X.shape"
   ]
  },
  {
   "cell_type": "code",
   "execution_count": null,
   "metadata": {
    "collapsed": true
   },
   "outputs": [],
   "source": []
  }
 ],
 "metadata": {
  "kernelspec": {
   "display_name": "Python 2",
   "language": "python",
   "name": "python2"
  },
  "language_info": {
   "codemirror_mode": {
    "name": "ipython",
    "version": 2
   },
   "file_extension": ".py",
   "mimetype": "text/x-python",
   "name": "python",
   "nbconvert_exporter": "python",
   "pygments_lexer": "ipython2",
   "version": "2.7.14"
  }
 },
 "nbformat": 4,
 "nbformat_minor": 2
}
