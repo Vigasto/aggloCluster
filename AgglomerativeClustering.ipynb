{
 "cells": [
  {
   "cell_type": "markdown",
   "metadata": {},
   "source": [
    "## Tubes ML - Agglomerative Clustering\n",
    "\n",
    "### Konsep :\n",
    "\n",
    "Agglomerative Clustering merupakan tipe algoritma clustering hierarkis yang menggunakan approach bottom-up; dengan kata lain, algoritma ini membangun hierarki cluster dari mulai kondisi satu data memiliki clusternya sendiri hingga tercapai kondisi semua data ada pada satu cluster. Konsep agglomerative clustering sendiri merupakan ide yang sangat umum, sehingga memiliki berbagai variasi dalam acuan clusteringnya, antara lain : \n",
    "\n",
    "- Fungsi metrik yang menyatakan 'jarak' antar data, seperti jarak Euklidean, Manhattan, Mahalanobis dsb. yang penggunaannya tergantung pada konteks data numerik. \n",
    "\n",
    "- Fungsi linkage yang menyatakan acuan jarak yang dipergunakan antar cluster, misalnya fungsi complete-linkage, single-linkage, average-linkage, dan average-group-linkage.\n",
    "\n",
    "Dalam tugas ini diterapkan keempat fungsi linkage yang disebutkan diatas dengan fungsi metrik Euklidean\n",
    "\n",
    "### Pseudocode : \n",
    "\n",
    "##### Fungsi secara general"
   ]
  },
  {
   "cell_type": "markdown",
   "metadata": {},
   "source": [
    " ```\n",
    " AgglomerativeCluster(data, n_cluster, linkage) {\n",
    "     distanceMatrix = initDistanceMatrix(data)\n",
    "     labels = initLabels(length(data))\n",
    "     clusters = initClusters(data)\n",
    "     while (length(clusters) > n_cluster) {\n",
    "         newCluster = mergeMinDist(clusters)\n",
    "         ...(renew berdasarkan linkage)\n",
    "     return labels\n",
    " ```"
   ]
  },
  {
   "cell_type": "markdown",
   "metadata": {},
   "source": [
    "###### Fungsi linkage single\n",
    "\n",
    "```\n",
    "        if (linkage == \"single\") {\n",
    "             for each cluster c in clusters\n",
    "                 minDist = None\n",
    "                 for each data i in newCluster\n",
    "                     for each data j in c\n",
    "                         minDist = min(minDist, distance(i, j)\n",
    "                 distanceMatrix[i,j] = minDist\n",
    "```"
   ]
  },
  {
   "cell_type": "markdown",
   "metadata": {},
   "source": [
    "###### Fungsi linkage complete\n",
    "\n",
    "```\n",
    "        else if (linkage == \"complete\") {\n",
    "             for each cluster c in clusters\n",
    "                 maxDist = None\n",
    "                 for each data i in newCluster\n",
    "                     for each data j in c\n",
    "                         maxDist = max(maxDist, distance(i, j)\n",
    "                 distanceMatrix[i,j] = maxDist\n",
    "```"
   ]
  },
  {
   "cell_type": "markdown",
   "metadata": {},
   "source": [
    "###### Fungsi linkage average-group\n",
    "\n",
    "```\n",
    "        else if (linkage == \"average-group\") {\n",
    "             c = meanCentroid(newCluster)\n",
    "             for each cluster c in clusters\n",
    "                 c1 = meanCentroid(c)\n",
    "                 distanceMatrix[i,j] = distance(c, c1)\n",
    "```"
   ]
  },
  {
   "cell_type": "markdown",
   "metadata": {},
   "source": [
    "###### Fungsi linkage average-group\n",
    "\n",
    "```\n",
    "        else if (linkage == \"average\") {\n",
    "             for each cluster c in clusters\n",
    "                 sum = 0\n",
    "                 for each data i in newCluster\n",
    "                     for each data j in c\n",
    "                         sum += distance(i, j)\n",
    "                 distanceMatrix[i,j] = sum / length(newCluster)*length(c)\n",
    "```\n",
    "\n",
    "### Hasil Pemrograman dan Clustering\n",
    "\n",
    "Source code class dibuat berikut penjelasannya dalam bentuk komentar pada file `myAgglo.py` yang kemudian dapat di-import dan digunakan mirip dengan modul AgglomerativeClustering milik scikit-learn : "
   ]
  },
  {
   "cell_type": "code",
   "execution_count": 31,
   "metadata": {},
   "outputs": [
    {
     "data": {
      "image/png": "[encoded data removed]",
      "text/plain": [
       "<matplotlib.figure.Figure at 0x95e54e0>"
      ]
     },
     "metadata": {},
     "output_type": "display_data"
    },
    {
     "name": "stdout",
     "output_type": "stream",
     "text": [
      "             precision    recall  f1-score   support\n",
      "\n",
      "          0       1.00      1.00      1.00        50\n",
      "          1       0.48      0.92      0.63        50\n",
      "          2       0.00      0.00      0.00        50\n",
      "\n",
      "avg / total       0.49      0.64      0.54       150\n",
      "\n",
      "('accuracy = ', 0.64000000000000001)\n"
     ]
    }
   ],
   "source": [
    "import numpy as np\n",
    "import matplotlib.pyplot as plt\n",
    "\n",
    "from myAgglo import MyAgglomerativeClustering\n",
    "from sklearn import datasets\n",
    "from sklearn.metrics import classification_report, accuracy_score\n",
    "\n",
    "iris = datasets.load_iris()\n",
    "clustering = MyAgglomerativeClustering(linkage=\"single\")\n",
    "prediction = clustering.fit_predict(iris.data)\n",
    "\n",
    "plt.scatter(iris.data[prediction == 0, 0], iris.data[prediction == 0, 1], s=50)\n",
    "plt.scatter(iris.data[prediction == 1, 0], iris.data[prediction == 1, 1], s=50)\n",
    "plt.scatter(iris.data[prediction == 2, 0], iris.data[prediction == 2, 1], s=50)\n",
    "\n",
    "plt.title('Iris with MyAgglomerative Clustering, single-linkage')\n",
    "plt.show()\n",
    "\n",
    "print(classification_report(iris.target, prediction))\n",
    "print('accuracy = ', accuracy_score(iris.target, prediction, normalize=True))"
   ]
  },
  {
   "cell_type": "code",
   "execution_count": 10,
   "metadata": {},
   "outputs": [
    {
     "data": {
      "text/plain": [
       "array([1, 1, 1, 1, 1, 1, 1, 1, 1, 1, 1, 1, 1, 1, 1, 1, 1, 1, 1, 1, 1, 1, 1,\n",
       "       1, 1, 1, 1, 1, 1, 1, 1, 1, 1, 1, 1, 1, 1, 1, 1, 1, 1, 1, 1, 1, 1, 1,\n",
       "       1, 1, 1, 1, 0, 0, 0, 0, 0, 0, 0, 0, 0, 0, 0, 0, 0, 0, 0, 0, 0, 0, 0,\n",
       "       0, 0, 0, 0, 0, 0, 0, 0, 0, 0, 0, 0, 0, 0, 0, 0, 0, 0, 0, 0, 0, 0, 0,\n",
       "       0, 0, 0, 0, 0, 0, 0, 0, 0, 0, 0, 0, 0, 0, 0, 0, 0, 0, 0, 0, 0, 0, 0,\n",
       "       0, 0, 0, 0, 0, 0, 0, 0, 0, 0, 0, 0, 0, 0, 0, 0, 0, 0, 0, 0, 0, 0, 0,\n",
       "       0, 0, 0, 0, 0, 0, 0, 0, 0, 0, 0, 0], dtype=int64)"
      ]
     },
     "execution_count": 10,
     "metadata": {},
     "output_type": "execute_result"
    }
   ],
   "source": [
    "clustering = MyAgglomerativeClustering(linkage=\"single\")\n",
    "prediction = clustering.fit_predict(iris.data)\n",
    "\n",
    "plt.scatter(iris.data[prediction == 0, 0], iris.data[prediction == 0, 1], s=50)\n",
    "plt.scatter(iris.data[prediction == 1, 0], iris.data[prediction == 1, 1], s=50)\n",
    "plt.scatter(iris.data[prediction == 2, 0], iris.data[prediction == 2, 1], s=50)\n",
    "\n",
    "plt.title('Iris with MyAgglomerative Clustering, slinkage')\n",
    "plt.show()\n",
    "\n",
    "print(classification_report(iris.target, prediction))\n",
    "print('accuracy = ', accuracy_score(iris.target, prediction, normalize=True))"
   ]
  },
  {
   "cell_type": "code",
   "execution_count": 11,
   "metadata": {},
   "outputs": [
    {
     "data": {
      "text/plain": [
       "numpy.ndarray"
      ]
     },
     "execution_count": 11,
     "metadata": {},
     "output_type": "execute_result"
    }
   ],
   "source": [
    "type(clustering.labels_)"
   ]
  },
  {
   "cell_type": "code",
   "execution_count": 25,
   "metadata": {},
   "outputs": [],
   "source": [
    "from myAgglo import MyAgglomerativeClustering"
   ]
  },
  {
   "cell_type": "code",
   "execution_count": 26,
   "metadata": {},
   "outputs": [],
   "source": [
    "clustering = MyAgglomerativeClustering(linkage=\"average\")"
   ]
  },
  {
   "cell_type": "code",
   "execution_count": 27,
   "metadata": {},
   "outputs": [
    {
     "data": {
      "text/plain": [
       "array([ 0.,  0.,  0.,  0.,  0.,  0.,  0.,  0.,  0.,  0.,  0.,  0.,  0.,\n",
       "        0.,  0.,  0.,  0.,  0.,  0.,  0.,  0.,  0.,  0.,  0.,  0.,  0.,\n",
       "        0.,  0.,  0.,  0.,  0.,  0.,  0.,  0.,  0.,  0.,  0.,  0.,  0.,\n",
       "        0.,  0.,  0.,  0.,  0.,  0.,  0.,  0.,  0.,  0.,  0.,  1.,  2.,\n",
       "        1.,  2.,  1.,  2.,  2.,  2.,  1.,  2.,  2.,  2.,  2.,  2.,  2.,\n",
       "        1.,  2.,  2.,  1.,  2.,  2.,  2.,  1.,  2.,  2.,  1.,  1.,  1.,\n",
       "        2.,  2.,  2.,  2.,  2.,  1.,  2.,  2.,  1.,  1.,  2.,  2.,  2.,\n",
       "        2.,  2.,  2.,  2.,  2.,  2.,  2.,  2.,  2.,  1.,  2.,  1.,  1.,\n",
       "        1.,  1.,  2.,  1.,  1.,  1.,  1.,  1.,  1.,  2.,  2.,  1.,  1.,\n",
       "        1.,  1.,  1.,  1.,  2.,  1.,  1.,  1.,  1.,  1.,  2.,  1.,  1.,\n",
       "        1.,  1.,  1.,  1.,  1.,  1.,  1.,  1.,  2.,  1.,  1.,  1.,  2.,\n",
       "        1.,  1.,  1.,  1.,  1.,  1.,  2.])"
      ]
     },
     "execution_count": 27,
     "metadata": {},
     "output_type": "execute_result"
    }
   ],
   "source": [
    " X = np.array([[1, 2], [1, 4], [1, 0],[4, 2], [4, 4], [4, 0]])\n",
    "clustering.fit_predict(iris.data)"
   ]
  },
  {
   "cell_type": "code",
   "execution_count": 15,
   "metadata": {},
   "outputs": [
    {
     "data": {
      "text/plain": [
       "[1, 3, 4, 5, 10, -2]"
      ]
     },
     "execution_count": 15,
     "metadata": {},
     "output_type": "execute_result"
    }
   ],
   "source": [
    "[1,3,4] + [5,10,-2]\n"
   ]
  },
  {
   "cell_type": "code",
   "execution_count": 16,
   "metadata": {},
   "outputs": [
    {
     "data": {
      "text/plain": [
       "(6L, 2L)"
      ]
     },
     "execution_count": 16,
     "metadata": {},
     "output_type": "execute_result"
    }
   ],
   "source": [
    "X.shape"
   ]
  },
  {
   "cell_type": "code",
   "execution_count": null,
   "metadata": {
    "collapsed": true
   },
   "outputs": [],
   "source": []
  }
 ],
 "metadata": {
  "kernelspec": {
   "display_name": "Python 2",
   "language": "python",
   "name": "python2"
  },
  "language_info": {
   "codemirror_mode": {
    "name": "ipython",
    "version": 2
   },
   "file_extension": ".py",
   "mimetype": "text/x-python",
   "name": "python",
   "nbconvert_exporter": "python",
   "pygments_lexer": "ipython2",
   "version": "2.7.14"
  }
 },
 "nbformat": 4,
 "nbformat_minor": 2
}
